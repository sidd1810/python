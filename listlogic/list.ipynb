{
 "cells": [
  {
   "cell_type": "code",
   "execution_count": 29,
   "metadata": {},
   "outputs": [],
   "source": [
    "fruit=[\"banana\",\"sahil\",\"abhi\"]\n",
    "newlist=[]\n",
    "for x in fruit:\n",
    "    if \"n\" in x:\n",
    "         newlist.append(x)\n",
    "    print=(newlist)"
   ]
  },
  {
   "cell_type": "code",
   "execution_count": 1,
   "metadata": {},
   "outputs": [],
   "source": [
    "\n",
    "thistuple = (\"apple\", \"banana\", \"cherry\")\n",
    "y = list(thistuple)\n",
    "y.append(\"orange\")\n",
    "thistuple = tuple(y)\n"
   ]
  },
  {
   "cell_type": "code",
   "execution_count": 8,
   "metadata": {},
   "outputs": [
    {
     "name": "stdout",
     "output_type": "stream",
     "text": [
      "{1, 2, 3, 4, 5, 6, 'kaka', 'banan'}\n"
     ]
    }
   ],
   "source": [
    "set1={\"banan\",1,2,3}\n",
    "set2={\"kaka\",5,4,6}\n",
    "set3=set1.union(set2)\n",
    "print(set3)\n"
   ]
  },
  {
   "cell_type": "code",
   "execution_count": 10,
   "metadata": {},
   "outputs": [
    {
     "name": "stdout",
     "output_type": "stream",
     "text": [
      "{'kaka', 'lala'}\n"
     ]
    }
   ],
   "source": [
    "set1={\"kaka\",\"bhainita\",\"lala\"}\n",
    "set2={\"baba\",\"kaka\",\"lala\"}\n",
    "set3=set2.intersection(set1)\n",
    "print(set3)\n",
    "#bane ma je same hoy ae add thy chee \n"
   ]
  },
  {
   "cell_type": "code",
   "execution_count": 12,
   "metadata": {},
   "outputs": [
    {
     "name": "stdout",
     "output_type": "stream",
     "text": [
      "{'saja', 'lala'}\n"
     ]
    }
   ],
   "source": [
    "set1={\"kaka\",\"tata\",\"saja\"}\n",
    "set2={\"kaka\",\"tata\",\"lala\"}\n",
    "set3=set1.symmetric_difference(set2)\n",
    "print(set3)\n",
    "# je same na hoy ae j prine thy "
   ]
  },
  {
   "cell_type": "code",
   "execution_count": 26,
   "metadata": {},
   "outputs": [
    {
     "name": "stdout",
     "output_type": "stream",
     "text": [
      "mustang\n",
      "dict_items([('brand', 'ford'), ('name', 'mustang'), ('year', 7878), ('car', 'kaka')])\n",
      "{'brand': 'ford', 'name': 'mustang', 'year': 7878, 'car': 'kaka'}\n",
      "dict_values(['ford', 'mustang', 7878, 'kaka'])\n"
     ]
    }
   ],
   "source": [
    "thisdict={\"brand\":\"ford\",\n",
    "          \"name\":\"mustang\",\n",
    "          \"year\":7878}\n",
    "print(thisdict[\"name\"])\n",
    "thisdict[\"car\"]=\"kaka\"\n",
    "x=thisdict.items()\n",
    "print(x)\n",
    "print(thisdict)\n",
    "x=thisdict.values()\n",
    "print(x)\n",
    "thisdict.update({\"farart\":\"papsa\"})\n",
    "#, no use karvama ave chee amd string ma \" \" use thy chee\n"
   ]
  },
  {
   "cell_type": "code",
   "execution_count": 2,
   "metadata": {},
   "outputs": [
    {
     "name": "stdout",
     "output_type": "stream",
     "text": [
      "['baba', 'jaja', 'kaka', 'roro']\n"
     ]
    }
   ],
   "source": [
    "mylist=[\"roro\",\"kaka\",\"jaja\",\"baba\"]\n",
    "mylist.reverse()\n",
    "print(mylist)"
   ]
  },
  {
   "cell_type": "code",
   "execution_count": 5,
   "metadata": {},
   "outputs": [
    {
     "name": "stdout",
     "output_type": "stream",
     "text": [
      "['my', 'name', 'is']\n"
     ]
    }
   ],
   "source": [
    "list1=[\"m\",\"na\",\"i\"]\n",
    "list2=[\"y\",\"me\",\"s\"]\n",
    "list3=[i + j for i ,j in zip(list1,list2)]\n",
    "print(list3)"
   ]
  },
  {
   "cell_type": "code",
   "execution_count": 38,
   "metadata": {},
   "outputs": [
    {
     "name": "stdout",
     "output_type": "stream",
     "text": [
      "[1, 4, 9, 16, 25, 36, 49]\n"
     ]
    }
   ],
   "source": [
    "num=[1,2,3,4,5,6,7]\n",
    "res=[]\n",
    "\n",
    "for x in num:\n",
    "    res.append(x*x)\n",
    "print(res)\n",
    "\n",
    "\n"
   ]
  },
  {
   "cell_type": "code",
   "execution_count": 46,
   "metadata": {},
   "outputs": [
    {
     "name": "stdout",
     "output_type": "stream",
     "text": [
      "['heelosir', 'heelocare', 'takesir', 'takecare']\n"
     ]
    }
   ],
   "source": [
    "list1=[\"heelo\",\"take\"]\n",
    "list2=[\"sir\",\"care\"]\n",
    "list3=[x + y for x in list1 for y in list2]\n",
    "print(list3)\n"
   ]
  },
  {
   "cell_type": "code",
   "execution_count": 1,
   "metadata": {},
   "outputs": [
    {
     "name": "stdout",
     "output_type": "stream",
     "text": [
      "[300, 200, 100, 90, 80, 70]\n"
     ]
    }
   ],
   "source": [
    "list1=[10,20,30,40,50,60]\n",
    "list2=[70,80,90,100,200,300]\n",
    "list2.reverse()\n",
    "print(list2)"
   ]
  },
  {
   "cell_type": "code",
   "execution_count": 7,
   "metadata": {},
   "outputs": [
    {
     "name": "stdout",
     "output_type": "stream",
     "text": [
      "Brad\n"
     ]
    }
   ],
   "source": [
    "list1 = [\"Mike\", \"\", \"Emma\", \"Kelly\", \"\", \"Brad\"]\n",
    "mylist=list1.pop(1)\n",
    "mylist=list1.pop(4)\n",
    "print(mylist)"
   ]
  },
  {
   "cell_type": "code",
   "execution_count": 1,
   "metadata": {},
   "outputs": [
    {
     "name": "stdout",
     "output_type": "stream",
     "text": [
      "[10, 20, [300, 400, [5000, 6000, 7000], 500], 30, 40]\n"
     ]
    }
   ],
   "source": [
    "list= [10, 20, [300, 400, [5000, 6000], 500], 30, 40]\n",
    "# understand indexing\n",
    "# list1[0] = 10\n",
    "# list1[1] = 20\n",
    "# list1[2] = [300, 400, [5000, 6000], 500]\n",
    "# list1[2][2] = [5000, 6000]\n",
    "# list1[2][2][1] = 6000\n",
    "list[2][2].append(7000)\n",
    "print(list)"
   ]
  },
  {
   "cell_type": "code",
   "execution_count": 6,
   "metadata": {},
   "outputs": [
    {
     "name": "stdout",
     "output_type": "stream",
     "text": [
      "['a', 'b', ['c', ['d', 'e', ['f', 'g', 'h', 'i', 'j'], 'k'], 'l'], 'm', 'n']\n"
     ]
    }
   ],
   "source": [
    "list1 = [\"a\", \"b\", [\"c\", [\"d\", \"e\", [\"f\", \"g\"], \"k\"], \"l\"], \"m\", \"n\"]\n",
    "sublist=[\"h\",\"i\",\"j\"]\n",
    "list1[2][1][2].extend(sublist)\n",
    "print(list1)\n"
   ]
  },
  {
   "cell_type": "code",
   "execution_count": 3,
   "metadata": {},
   "outputs": [
    {
     "name": "stdout",
     "output_type": "stream",
     "text": [
      "[5, 10, 15, 200, 30, 40, 70]\n"
     ]
    }
   ],
   "source": [
    "list1=[5,10,15,20,30,40,70]\n",
    "list2=list1.index(20)\n",
    "list1[list2]=200\n",
    "print(list1)\n",
    "#je bi list ma inset karvanu hoy and aema je karvu hoy aema list2 ma index mujab add karvanu \n"
   ]
  },
  {
   "cell_type": "code",
   "execution_count": 4,
   "metadata": {},
   "outputs": [
    {
     "name": "stdout",
     "output_type": "stream",
     "text": [
      "[5, 15, 25, 50]\n"
     ]
    }
   ],
   "source": [
    "list1 = [5, 20, 15, 20, 25, 50, 20]\n",
    "while 20 in list1:\n",
    "    list1.remove(20)\n",
    "print(list1)\n",
    "\n"
   ]
  },
  {
   "cell_type": "code",
   "execution_count": null,
   "metadata": {},
   "outputs": [],
   "source": []
  }
 ],
 "metadata": {
  "kernelspec": {
   "display_name": "Python 3",
   "language": "python",
   "name": "python3"
  },
  "language_info": {
   "codemirror_mode": {
    "name": "ipython",
    "version": 3
   },
   "file_extension": ".py",
   "mimetype": "text/x-python",
   "name": "python",
   "nbconvert_exporter": "python",
   "pygments_lexer": "ipython3",
   "version": "3.9.7"
  },
  "orig_nbformat": 4
 },
 "nbformat": 4,
 "nbformat_minor": 2
}
